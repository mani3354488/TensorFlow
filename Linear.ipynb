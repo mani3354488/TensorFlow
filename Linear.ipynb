{
  "nbformat": 4,
  "nbformat_minor": 0,
  "metadata": {
    "colab": {
      "name": "Linear.ipynb",
      "provenance": [],
      "include_colab_link": true
    },
    "kernelspec": {
      "name": "python3",
      "display_name": "Python 3"
    },
    "accelerator": "GPU"
  },
  "cells": [
    {
      "cell_type": "markdown",
      "metadata": {
        "id": "view-in-github",
        "colab_type": "text"
      },
      "source": [
        "<a href=\"https://colab.research.google.com/github/mani3354488/djreact/blob/master/Linear.ipynb\" target=\"_parent\"><img src=\"https://colab.research.google.com/assets/colab-badge.svg\" alt=\"Open In Colab\"/></a>"
      ]
    },
    {
      "cell_type": "code",
      "metadata": {
        "id": "F9nQZ1_c_UeX",
        "colab_type": "code",
        "colab": {}
      },
      "source": [
        "import numpy as np\n",
        "import tensorflow as tf\n",
        "import matplotlib.pyplot as plt\n",
        "\n",
        "def generate_dataset():\n",
        "  #Generate 100 training data points for x varibale in the range of 0 and 2.\n",
        "  #linspace- Return evenly spaced numbers over a specified interval.\n",
        "  x_batch = np.linspace(0, 2, 100)\n",
        "  \n",
        "  #print(\"size\",x_batch.shape)\n",
        "  y_batch = 1.5 * x_batch + np.random.randn(*x_batch.shape) * 0.2 + 0.5\n",
        "  \n",
        "  #Generate Test dataset\n",
        "  x_test = np.linspace(0, 2, 100)\n",
        "  y_test = 1.5 * x_batch + np.random.randn(*x_batch.shape) * 0.2 + 0.5\n",
        "  \n",
        "  \n",
        "  return x_batch, y_batch, x_test, y_test"
      ],
      "execution_count": 0,
      "outputs": []
    },
    {
      "cell_type": "markdown",
      "metadata": {
        "id": "honbB-eblkaw",
        "colab_type": "text"
      },
      "source": [
        ""
      ]
    },
    {
      "cell_type": "code",
      "metadata": {
        "id": "38KBD4Nf_bn-",
        "colab_type": "code",
        "colab": {}
      },
      "source": [
        "def linear_regression():\n",
        "  x = tf.placeholder(tf.float32, shape=(None, ), name='x')\n",
        "  y = tf.placeholder(tf.float32, shape=(None, ), name='y')\n",
        "  \n",
        "  \n",
        "  #tf.placeholder - A placeholder is simply a variable that we will assign data to at a later date.\n",
        "  #It allows us to create our operations and build our computation graph, without needing the data. In TensorFlow terminology, we then feed data into the graph through these placeholders.\n",
        "  \n",
        "  \n",
        "  with tf.variable_scope('lreg') as scope:\n",
        "    #A variable maintains state in the graph across calls to run()\n",
        "    \n",
        "    w = tf.Variable(np.random.normal(), name='W') #Random Initializer of variable\n",
        "    b = tf.Variable(np.random.normal(), name='b')\n",
        "    \n",
        "\t\t\n",
        "    y_pred = tf.add(tf.multiply(w, x), b) #One neuron model : Transfer function - Linear\n",
        "    #y_pred=tf.sigmoid(tf.add(tf.multiply(w, x), b)) # Transfer function sigmoid : Incorrect here.\n",
        "\n",
        "    loss = tf.reduce_mean(tf.square(y_pred - y)) # Square Loss Error Function\n",
        "  return x, y, y_pred, loss"
      ],
      "execution_count": 0,
      "outputs": []
    },
    {
      "cell_type": "code",
      "metadata": {
        "id": "_Ew9A299DzIj",
        "colab_type": "code",
        "outputId": "6c26ad2c-1817-43bf-8d04-c2d40918c306",
        "colab": {
          "base_uri": "https://localhost:8080/",
          "height": 949
        }
      },
      "source": [
        "def run():\n",
        "  x_batch, y_batch, x_test, y_test = generate_dataset()\n",
        "  x, y, y_pred, loss = linear_regression()\n",
        "\n",
        "  #optimizer = tf.train.GradientDescentOptimizer(0.01) # Learning rate 0.1\n",
        "  optimizer = tf.train.AdamOptimizer(0.1) # AdamOptimiser\n",
        "  train_op = optimizer.minimize(loss)\n",
        "  \n",
        "  \n",
        "  #TensorFlow uses lazy evaluation. This really means that the graph is only computed when a session starts.\n",
        "  #If no graph argument is specified when constructing the session, the default graph will be launched in the session. If you are using more than one graph (created with tf.Graph())\n",
        "  \n",
        "  \n",
        "  #  target: (Optional.) The execution engine to connect to. Defaults to using an in-process engine. See Distributed TensorFlow for more examples.\n",
        "  #  graph: (Optional.) The Graph to be launched (described above).\n",
        "  #  config: (Optional.) A ConfigProto protocol buffer with configuration options for the session.\n",
        "\n",
        "  \n",
        "  \n",
        "  #server = tf.train.Server.create_local_server()\n",
        "  #sess = tf.Session(server.target)  # Create a session on the server. The session is created by default.\n",
        "  \n",
        "  with tf.Session() as session:\n",
        "    #When you launch the graph, variables have to be explicitly initialized before you can run Ops that use their value.\n",
        "    session.run(tf.global_variables_initializer())\n",
        "    \n",
        "    #feed_dict is a dictionary with its key being a tf.Tensor, tf.placeholder or tf.SparseTensor. \n",
        "    #The feed_dict argument allows the caller to override the value of the tensors (scalar, string, list, numpy array or tf.placeholder e.g. x and y) in the graph.\n",
        "    \n",
        "    #In this line, the x and y are the placeholders and x_batch and y_batch are the values generated, ready to fill up the placeholders during session.run().\n",
        "    feed_dict = {x: x_batch, y: y_batch}\n",
        "\t\t\n",
        "    #Number of epoch are 30\n",
        "    for i in range(30):\n",
        "      session.run(train_op, feed_dict)\n",
        "      #t.eval() is a shortcut for calling tf.get_default_session().run(t).\n",
        "      print(i, \"loss:\", loss.eval(feed_dict))\n",
        "\n",
        "    print('Predicting')\n",
        "    #y_pred_batch = session.run(y_pred, {x : x_batch})\n",
        "    y_pred_batch = session.run(y_pred, {x : x_test})\n",
        "\n",
        "  plt.scatter(x_batch, y_batch)\n",
        "  plt.plot(x_batch, y_pred_batch, color='red')\n",
        "  plt.xlim(0, 3)\n",
        "  plt.ylim(0, 4)\n",
        "  plt.savefig('plot.png')\n",
        "\n",
        "if __name__ == \"__main__\":\n",
        "  run()"
      ],
      "execution_count": 0,
      "outputs": [
        {
          "output_type": "stream",
          "text": [
            "WARNING:tensorflow:From /usr/local/lib/python3.6/dist-packages/tensorflow/python/framework/op_def_library.py:263: colocate_with (from tensorflow.python.framework.ops) is deprecated and will be removed in a future version.\n",
            "Instructions for updating:\n",
            "Colocations handled automatically by placer.\n",
            "0 loss: 4.2490263\n",
            "1 loss: 3.485078\n",
            "2 loss: 2.8118632\n",
            "3 loss: 2.2296524\n",
            "4 loss: 1.737717\n",
            "5 loss: 1.3340945\n",
            "6 loss: 1.0153608\n",
            "7 loss: 0.77642846\n",
            "8 loss: 0.61040866\n",
            "9 loss: 0.5086019\n",
            "10 loss: 0.46067473\n",
            "11 loss: 0.45506206\n",
            "12 loss: 0.47959474\n",
            "13 loss: 0.5222855\n",
            "14 loss: 0.5721514\n",
            "15 loss: 0.6199271\n",
            "16 loss: 0.6585513\n",
            "17 loss: 0.683369\n",
            "18 loss: 0.69205976\n",
            "19 loss: 0.6843586\n",
            "20 loss: 0.6616446\n",
            "21 loss: 0.62647766\n",
            "22 loss: 0.58213943\n",
            "23 loss: 0.5322161\n",
            "24 loss: 0.48024258\n",
            "25 loss: 0.4294213\n",
            "26 loss: 0.382412\n",
            "27 loss: 0.34119725\n",
            "28 loss: 0.30701715\n",
            "29 loss: 0.28036934\n",
            "Predicting\n"
          ],
          "name": "stdout"
        },
        {
          "output_type": "display_data",
          "data": {
            "image/png": "[encoded data removed]",
            "text/plain": [
              "<Figure size 576x396 with 1 Axes>"
            ]
          },
          "metadata": {
            "tags": []
          }
        }
      ]
    },
    {
      "cell_type": "code",
      "metadata": {
        "id": "7-Vg9slmixZJ",
        "colab_type": "code",
        "outputId": "fa813a25-6169-4c03-c9cf-e5711530592a",
        "colab": {
          "base_uri": "https://localhost:8080/",
          "height": 139
        }
      },
      "source": [
        "x = tf.placeholder(tf.float32, shape=(1024, 1024))\n",
        "y = tf.matmul(x, x)\n",
        "\n",
        "with tf.Session() as sess:\n",
        "  #print(sess.run(y))  # ERROR: will fail because x was not fed.\n",
        "\n",
        "  rand_array = np.random.rand(1024, 1024)\n",
        "  print(sess.run(y, feed_dict={x: rand_array}))  # Will succeed.\n"
      ],
      "execution_count": 0,
      "outputs": [
        {
          "output_type": "stream",
          "text": [
            "[[256.1418  253.99373 244.94263 ... 250.97919 245.7476  257.66296]\n",
            " [243.05498 245.94649 237.23654 ... 246.08298 235.52719 254.14294]\n",
            " [260.42596 258.94965 248.83081 ... 256.1682  240.70958 263.47577]\n",
            " ...\n",
            " [245.62602 247.22243 243.21303 ... 240.71175 237.5433  251.99707]\n",
            " [254.54294 251.37634 250.9795  ... 249.60007 239.59315 259.05066]\n",
            " [259.05637 251.7667  251.19044 ... 252.67545 243.19107 258.81638]]\n"
          ],
          "name": "stdout"
        }
      ]
    },
    {
      "cell_type": "markdown",
      "metadata": {
        "id": "0xV2byAKmMlE",
        "colab_type": "text"
      },
      "source": [
        "**Client**\n",
        "\n",
        "A client is typically a program that builds a TensorFlow graph and constructs a tensorflow::Session to interact with a cluster. Clients are typically written in Python or C++. A single client process can directly interact with multiple TensorFlow servers (see \"Replicated training\" above), and a single server can serve multiple clients.\n",
        "\n",
        "**Cluster**\n",
        "\n",
        "A TensorFlow cluster comprises one or more \"jobs\", each divided into lists of one or more \"tasks\". A cluster is typically dedicated to a particular high-level objective, such as training a neural network, using many machines in parallel. A cluster is defined by a tf.train.ClusterSpec object.\n",
        "\n",
        "**Job**\n",
        "\n",
        "A job comprises a list of \"tasks\", which typically serve a common purpose. For example, a job named ps (for \"parameter server\") typically hosts nodes that store and update variables; while a job named worker typically hosts stateless nodes that perform compute-intensive tasks. The tasks in a job typically run on different machines. The set of job roles is flexible: for example, a worker may maintain some state.\n",
        "\n",
        "**Master service**\n",
        "\n",
        "An RPC service that provides remote access to a set of distributed devices, and acts as a session target. The master service implements the tensorflow::Session interface, and is responsible for coordinating work across one or more \"worker services\". All TensorFlow servers implement the master service.\n",
        "\n",
        "**Task**\n",
        "\n",
        "A task corresponds to a specific TensorFlow server, and typically corresponds to a single process. A task belongs to a particular \"job\" and is identified by its index within that job's list of tasks.\n",
        "\n",
        "\n",
        "\n",
        "**Local server: **\n",
        "# Start a TensorFlow server as a single-process \"cluster\".\n",
        "\n",
        "\n",
        "\n",
        "```\n",
        "import tensorflow as tf\n",
        "c = tf.constant(\"Hello, distributed TensorFlow!\")\n",
        "server = tf.train.Server.create_local_server()\n",
        "sess = tf.Session(server.target)  # Create a session on the server.\n",
        "sess.run(c)\n",
        "```\n",
        "# Start a Tensorflow server  on Cluster:\n",
        "\n",
        "\n",
        "\n",
        "\n",
        "\n",
        "```\n",
        "\n",
        "tf.train.ClusterSpec({\n",
        "    \"worker\": [\n",
        "        \"worker0.example.com:2222\",\n",
        "        \"worker1.example.com:2222\",\n",
        "        \"worker2.example.com:2222\"\n",
        "    ],\n",
        "    \"ps\": [\n",
        "        \"ps0.example.com:2222\",\n",
        "        \"ps1.example.com:2222\"\n",
        "    ]})\n",
        "\n",
        "\n",
        "```\n",
        "\n"
      ]
    },
    {
      "cell_type": "code",
      "metadata": {
        "id": "Rz9j3ux-kDyD",
        "colab_type": "code",
        "colab": {}
      },
      "source": [
        ""
      ],
      "execution_count": 0,
      "outputs": []
    }
  ]
}